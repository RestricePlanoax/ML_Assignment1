{
 "cells": [
  {
   "cell_type": "code",
   "execution_count": 5,
   "metadata": {},
   "outputs": [],
   "source": [
    "import numpy as np\n",
    "import pandas as pd\n",
    "\n",
    "class Perceptron:\n",
    "\n",
    "     def __init__(self,learning_rate=0.01,iterations=1000):\n",
    "       self.learning_rate=learning_rate\n",
    "       self.iterations=iterations\n",
    "       self.start_Fun=self.unit_self_func\n",
    "       self.weights=None\n",
    "       self.bias=None\n",
    "\n",
    "\n",
    "     def fit(self,X,Y):\n",
    "       nosamples,nofeatures=X.shape\n",
    "\n",
    "       self.weights=np.zeros(nofeatures)\n",
    "       self.bias=0\n",
    "\n",
    "\n",
    "       Y_=np.array( [1 if i>0 else 0 for i in Y])\n",
    "\n",
    "       for _ in range(self.iterations):\n",
    "         for positions,training_x in enumerate(X):\n",
    "           value_linear=np.dot(training_x,self.weights)+self.bias\n",
    "           predicted_value_Y=self.start_Fun(value_linear)\n",
    "\n",
    "           value_updated=self.learning_rate*(Y_[positions] -predicted_value_Y)\n",
    "           self.weights=self.weights+ value_updated*training_x\n",
    "           self.bias=self.bias+ value_updated\n",
    "\n",
    "\n",
    "     def predict (self,X):\n",
    "       value_linear=np.dot(X,self.weights) + self.bias\n",
    "       predicted_value_Y=self.start_Fun(value_linear)\n",
    "       return predicted_value_Y\n",
    "\n",
    "     def unit_self_func(self,x):\n",
    "       return np.where(x>=0,1,0)\n"
   ]
  },
  {
   "cell_type": "code",
   "execution_count": 8,
   "metadata": {},
   "outputs": [
    {
     "name": "stdout",
     "output_type": "stream",
     "text": [
      "accuracy 0.9878640776699029\n"
     ]
    }
   ],
   "source": [
    "FILENAME=\"dataset_LP_1.txt\"\n",
    "df=pd.read_csv(FILENAME,header=None,delimiter=\",\")\n",
    "\n",
    "FILENAME=\"dataset_LP_1.txt\"\n",
    "data=np.loadtxt(FILENAME,delimiter=\",\")\n",
    "\n",
    "def accuracy(Y_true,Y_pred):\n",
    "    accuracy=np.sum(Y_true==Y_pred)/len(Y_true)\n",
    "    return accuracy\n",
    "\n",
    "no_sample,no_features=data.shape\n",
    "no_features-=1\n",
    "\n",
    "\n",
    "shuffle_df=df.sample(frac=1)\n",
    "Train_size=int(no_sample*0.7)\n",
    "X_train=data[:Train_size,0:no_features]\n",
    "X_test=data[Train_size:,0:no_features]\n",
    "Y_train=data[:Train_size, no_features]\n",
    "Y_test=data[Train_size:,no_features]\n",
    "\n",
    "\n",
    "p=Perceptron(learning_rate=0.01,iterations=1000)\n",
    "p.fit(X_train,Y_train)\n",
    "predictions=p.predict(X_test)\n",
    "print(\"accuracy\",accuracy(Y_test,predictions))\n",
    "\n",
    "\n"
   ]
  },
  {
   "cell_type": "code",
   "execution_count": null,
   "metadata": {},
   "outputs": [],
   "source": []
  }
 ],
 "metadata": {
  "kernelspec": {
   "display_name": "Python 3",
   "language": "python",
   "name": "python3"
  },
  "language_info": {
   "codemirror_mode": {
    "name": "ipython",
    "version": 3
   },
   "file_extension": ".py",
   "mimetype": "text/x-python",
   "name": "python",
   "nbconvert_exporter": "python",
   "pygments_lexer": "ipython3",
   "version": "3.8.5"
  }
 },
 "nbformat": 4,
 "nbformat_minor": 4
}
