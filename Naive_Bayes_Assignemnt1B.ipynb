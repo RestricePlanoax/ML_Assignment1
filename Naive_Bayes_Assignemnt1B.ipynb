{
 "cells": [
  {
   "cell_type": "code",
   "execution_count": 56,
   "metadata": {
    "id": "bh1fhf1vNdye"
   },
   "outputs": [],
   "source": [
    "import linecache as lc\n",
    "import numpy as np\n",
    "import math"
   ]
  },
  {
   "cell_type": "code",
   "execution_count": 57,
   "metadata": {
    "id": "lNR_UM4pNq7U"
   },
   "outputs": [],
   "source": [
    "#taken from the internet\n",
    "stop_word=[\"a\",\"about\",\"above\",\"after\",\"again\",\"against\",\"all\",\"am\",\"an\",\"and\",\"any\",\"are\",\"as\",\"at\",\"be\",\"because\",\"been\",\"before\",\"being\",\"below\",\"between\",\"both\",\"but\",\n",
    "\"by\",\"could\",\"did\",\"do\",\"does\",\"doing\",\"down\",\"during\",\"each\",\"few\",\"for\",\"from\",\"further\",\"had\",\"has\",\"have\",\"having\",\"he\",\"he'd\",\"he'll\",\"he's\",\"her\",\n",
    "\"here\",\"here's\",\"hers\",\"herself\",\"him\",\"himself\",\"his\",\"how\",\"how's\",\"i\",\"i'd\",\"i'll\",\"i'm\",\"i've\",\"if\",\"in\",\"into\",\"is\",\"it\",\"it's\",\"its\",\"itself\",\"let's\",\"me\",\n",
    "\"more\",\"most\",\"my\",\"myself\",\"nor\",\"of\",\"on\",\"once\",\"only\",\"or\",\"other\",\"ought\",\"our\",\"ours\",\"ourselves\",\"out\",\"over\",\"own\",\"same\",\"she\",\n",
    "\"she'd\",\"she'll\",\"she's\",\"should\",\"so\",\"some\",\"such\",\"than\",\"that\",\"that's\",\"the\",\"their\",\"theirs\",\"them\",\"themselves\",\"then\",\"there\",\"there's\",\n",
    "\"these\",\"they\",\"they'd\",\"they'll\",\"they're\",\"they've\",\"this\",\"those\",\"through\",\"to\",\"too\",\"under\",\"until\",\"up\",\"very\",\"was\",\"we\",\"we'd\",\n",
    "\"we'll\",\"we're\",\"we've\",\"were\",\"what\",\"what's\",\"when\",\"when's\",\"where\",\"where's\",\"which\",\"while\",\"who\",\"who's\",\"whom\",\"why\",\"why's\",\"with\",\n",
    "\"would\",\"you\",\"you'd\",\"you'll\",\"you're\",\"you've\",\"your\",\"yours\",\"yourself\",\"yourselves\"]"
   ]
  },
  {
   "cell_type": "code",
   "execution_count": 58,
   "metadata": {
    "id": "Y5ujdq19Cze8"
   },
   "outputs": [],
   "source": [
    "def train(i,dict,arr,h):\n",
    "    for j in range(1,(i*l//7)+1):\n",
    "        li=lc.getline('dataset_NB.txt',j) # breaking on '\\n'\n",
    "        for k in range(len(li)):\n",
    "          if(li[k] in stop_word):\n",
    "            li = li[:k]+\" \"+li[k+1:]\n",
    "        arr[int(li[len(li)-2])]+=1\n",
    "        words=li.split()\n",
    "        for m in words:\n",
    "            if (m != '\\n' and m != '0' and m!='1' and len(m)>2):\n",
    "                if m.lower() in dict[int(li[len(li)-2])]:\n",
    "                    dict[int(li[len(li)-2])][m.lower()]+=1\n",
    "                else:\n",
    "                    dict[int(li[len(li)-2])][m.lower()]=1\n",
    "    for j in range(((i+1)*l//7)+1,l+1):\n",
    "        li=lc.getline('dataset_NB.txt',j)\n",
    "        for k in range(len(li)):\n",
    "          if(li[k] in stop_word):\n",
    "            li = li[:k]+\" \"+li[k+1:]\n",
    "        arr[int(li[len(li)-2])]+=1\n",
    "        words=li.split()\n",
    "        for m in words:\n",
    "            if (m != '\\n' and m != 0 and m!=1 and len(m)>2):\n",
    "                if m.lower() in dict[int(li[len(li)-2])]:\n",
    "                    dict[int(li[len(li)-2])][m.lower()]+=1\n",
    "                else:\n",
    "                    dict[int(li[len(li)-2])][m.lower()]=1\n",
    "    return dict,arr"
   ]
  },
  {
   "cell_type": "code",
   "execution_count": 59,
   "metadata": {
    "id": "AjlNiKdkNebg"
   },
   "outputs": [],
   "source": [
    "def test(i,dict,arr,h):\n",
    "    ac,c,tp,tn,fp,fn=0,0,0,0,0,0\n",
    "    for j in range((i*l//7)+1,(i+1)*l//7):\n",
    "        c=0\n",
    "        li=lc.getline('dataset_NB.txt',j)\n",
    "        for k in range(len(li)):\n",
    "          if(li[k] in stop_word):\n",
    "            li = li[:k]+\" \"+li[k+1:]\n",
    "        words=li.split() \n",
    "        t0=1\n",
    "        t1=1 \n",
    "        for m in words:\n",
    "            if (m != '\\n' and m != '0' and m!='1' and len(m) > 2):\n",
    "                if m.lower() in dict[0]:\n",
    "                    t0*=((dict[0][m.lower()])+1)/((arr[0])+len(dict[0]))\n",
    "                else:\n",
    "                    t0*=(1)/((arr[0])+len(dict[0]))\n",
    "                if m.lower() in dict[1]:\n",
    "                    t1*=((dict[1][m.lower()])+1)/((arr[1])+len(dict[1]))\n",
    "                else:\n",
    "                    t1*=(1)/((arr[1])+len(dict[1]))\n",
    "                    \n",
    "        if(t1>=t0):\n",
    "            c=1\n",
    "        if c==1 and li[len(li)-2]=='1':\n",
    "            tp+=1\n",
    "        elif c==0 and li[len(li)-2]=='0':\n",
    "            tn+=1\n",
    "        elif c==1 and li[len(li)-2]=='0':\n",
    "            fp+=1\n",
    "        elif c==0 and li[len(li)-2]=='1':\n",
    "            fn+=1\n",
    "        if str(c)==li[len(li)-2]:\n",
    "            ac+=1\n",
    "    \n",
    "    return ac"
   ]
  },
  {
   "cell_type": "code",
   "execution_count": 60,
   "metadata": {
    "colab": {
     "base_uri": "https://localhost:8080/"
    },
    "id": "mai__YdTNkc0",
    "outputId": "3cbe95f3-dbf1-42d8-f013-9c7e7ce4a5fc",
    "scrolled": true
   },
   "outputs": [
    {
     "name": "stdout",
     "output_type": "stream",
     "text": [
      "Fold # 1\n",
      "The accuracy is  : 79.8 + 0.0\n",
      "Fold # 2\n",
      "The accuracy is  : 79.1 + 0.6999999999999957\n",
      "Fold # 3\n",
      "The accuracy is  : 79.56666666666666 + 0.8730533902472503\n",
      "Fold # 4\n",
      "The accuracy is  : 78.57499999999999 + 1.876665926583633\n",
      "Fold # 5\n",
      "The accuracy is  : 78.39999999999999 + 1.7146428199482258\n",
      "Fold # 6\n",
      "The accuracy is  : 78.74999999999999 + 1.750000000000001\n",
      "Fold # 7\n",
      "The accuracy is  : 78.39999999999999 + 1.833030277982337\n",
      "Overall accuracy is  : 78.39999999999999 + 1.833030277982337\n"
     ]
    }
   ],
   "source": [
    "file=open(\"dataset_NB.txt\",\"r\")\n",
    "l=0\n",
    "for x in file:\n",
    "    l+=1     \n",
    "    \n",
    "    #finding sample size.\n",
    "\n",
    "cnt = 1    \n",
    "file.seek(0,0) \n",
    "\n",
    "for h in range(7,8):\n",
    "  acc=[]\n",
    "  \n",
    "  for i in range(0,h):\n",
    "    dict=[{},{}]\n",
    "    arr=[0,0]\n",
    "\n",
    "    dict,arr=train(i,dict,arr,h)\n",
    "    ac=test(i,dict,arr,h)\n",
    "    \n",
    "    acc.append(ac*(100*h)/l)\n",
    "    \n",
    "    print(\"Fold #\",cnt)\n",
    "    cnt= cnt+1\n",
    "  \n",
    "    print(\"The accuracy is  :\",np.mean(acc),\"+\",math.sqrt(np.var(acc)))\n",
    "    \n",
    "    \n",
    "    \n",
    "  print(\"Overall averge accuracy is  :\",np.mean(acc),\"+\",math.sqrt(np.var(acc)))\n",
    "  \n"
   ]
  }
 ],
 "metadata": {
  "colab": {
   "name": "NB",
   "provenance": []
  },
  "kernelspec": {
   "display_name": "Python 3",
   "language": "python",
   "name": "python3"
  },
  "language_info": {
   "codemirror_mode": {
    "name": "ipython",
    "version": 3
   },
   "file_extension": ".py",
   "mimetype": "text/x-python",
   "name": "python",
   "nbconvert_exporter": "python",
   "pygments_lexer": "ipython3",
   "version": "3.6.8"
  }
 },
 "nbformat": 4,
 "nbformat_minor": 1
}
